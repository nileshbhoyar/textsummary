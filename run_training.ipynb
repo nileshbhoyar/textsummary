{
 "cells": [
  {
   "cell_type": "code",
   "execution_count": 13,
   "metadata": {
    "collapsed": false
   },
   "outputs": [],
   "source": [
    "import tensorflow as tf\n",
    "import numpy as np\n",
    "import models\n",
    "import helpers\n",
    "import data_utils"
   ]
  },
  {
   "cell_type": "markdown",
   "metadata": {},
   "source": [
    "### This Notebook is to vrify whether model is really memorizing examples i.e. whether it is good model to start with"
   ]
  },
  {
   "cell_type": "code",
   "execution_count": 14,
   "metadata": {
    "collapsed": false
   },
   "outputs": [],
   "source": [
    "metadata, idx_q, idx_a = data_utils.ourmodel.data_util.load_data()\n",
    "(trainX, trainY), (testX, testY), (validX, validY) = helpers.split_dataset(idx_q, idx_a)"
   ]
  },
  {
   "cell_type": "code",
   "execution_count": 15,
   "metadata": {
    "collapsed": false
   },
   "outputs": [],
   "source": [
    "\n",
    "# parameters \n",
    "xseq_len = trainX.shape[-1]\n",
    "yseq_len = trainY.shape[-1]\n",
    "batch_size = 16\n",
    "xvocab_size = len(metadata['idx2w'])  \n",
    "yvocab_size = xvocab_size\n",
    "emb_dim = 32\n"
   ]
  },
  {
   "cell_type": "code",
   "execution_count": 16,
   "metadata": {
    "collapsed": false
   },
   "outputs": [
    {
     "data": {
      "text/plain": [
       "20002"
      ]
     },
     "execution_count": 16,
     "metadata": {},
     "output_type": "execute_result"
    }
   ],
   "source": [
    "xvocab_size"
   ]
  },
  {
   "cell_type": "code",
   "execution_count": 17,
   "metadata": {
    "collapsed": false
   },
   "outputs": [],
   "source": [
    "trainXX = trainX[1:200]\n",
    "trainYY = trainY[1:200]"
   ]
  },
  {
   "cell_type": "code",
   "execution_count": 18,
   "metadata": {
    "collapsed": false
   },
   "outputs": [
    {
     "name": "stdout",
     "output_type": "stream",
     "text": [
      "<log> Building Graph <log> Building Input variables of Graph <log> Cells <log> Building Actual model .AdamOptimizer.. </log>"
     ]
    }
   ],
   "source": [
    "reload(models.seq2seq_wrapper)\n",
    "from models import seq2seq_wrapper\n",
    "model = seq2seq_wrapper.Seq2Seq(xseq_len= xseq_len,\n",
    "                               yseq_len= yseq_len,\n",
    "                               xvocab_size= xvocab_size,\n",
    "                               yvocab_size= yvocab_size,\n",
    "                               ckpt_path='ckpt/checkpoint/',\n",
    "                               emb_dim= emb_dim,\n",
    "                               num_layers=2,\n",
    "                             epochs = 4000,\n",
    "                                lr = 0.005,\n",
    "                                attention = False,\n",
    "                                celltype = 'GRU'\n",
    "                               )\n",
    "\n"
   ]
  },
  {
   "cell_type": "code",
   "execution_count": 19,
   "metadata": {
    "collapsed": false
   },
   "outputs": [],
   "source": [
    "batch_size = 16\n",
    "\n",
    "val_batch_gen = helpers.rand_batch_gen(validX, validY, 2)\n",
    "train_batch_gen = helpers.rand_batch_gen(trainXX, trainYY, batch_size)"
   ]
  },
  {
   "cell_type": "markdown",
   "metadata": {},
   "source": [
    "### Execute Training if model is not available from prior runs"
   ]
  },
  {
   "cell_type": "code",
   "execution_count": null,
   "metadata": {
    "collapsed": false
   },
   "outputs": [],
   "source": [
    "\n",
    "\n",
    "sess = model.train(train_batch_gen, val_batch_gen)"
   ]
  },
  {
   "cell_type": "code",
   "execution_count": 20,
   "metadata": {
    "collapsed": false
   },
   "outputs": [],
   "source": [
    "\n",
    "sess = model.restore_last_session()"
   ]
  },
  {
   "cell_type": "code",
   "execution_count": 21,
   "metadata": {
    "collapsed": false
   },
   "outputs": [
    {
     "name": "stdout",
     "output_type": "stream",
     "text": [
      "(16, 20)\n"
     ]
    }
   ],
   "source": [
    "input_,output_ = train_batch_gen.next()\n",
    "output = model.predict(sess, input_)\n",
    "print(output.shape)"
   ]
  },
  {
   "cell_type": "code",
   "execution_count": 22,
   "metadata": {
    "collapsed": false
   },
   "outputs": [
    {
     "name": "stdout",
     "output_type": "stream",
     "text": [
      "Review : [watch prices assortment good get gold box purchase price unk 34 less target]; Summary : [better price target];real summary :[better price target] \n",
      "Review : [confection around centuries light unk citrus gelatin nuts case unk cut tiny squares liberally coated powdered sugar tiny mouthful heaven chewy flavorful highly recommend yummy treat familiar story unk unk]; Summary : [delight says];real summary :[delight says] \n",
      "Review : [cat food recommended vet 13 year old unk cat trouble keeping food loosing weight stopped problems doesnt eat much since seems satisfied eating helps justify added price aids digestion since]; Summary : [perfect cat food older cats];real summary :[perfect cat food older cats] \n",
      "Review : [dont know long sat back shelf somewhere old wouldnt cook throw half skins damaged clear sign dried beans past prime cant even return ask refund food returnable find different brand]; Summary : [low quality];real summary :[low quality] \n",
      "Review : [keep trying brands cheaper brands stupid ginger soooo worth money tender moist never let]; Summary : [simply best];real summary :[simply best] \n",
      "Review : [best cornmeal made regular cornbread hot water cornbread meal outstanding also fried oysters meal gave great texture unk]; Summary : [awesome cornmeal];real summary :[awesome cornmeal] \n",
      "Review : [nice alternative apple pie love fact slicing unk easy prepare also loved fact make fresh whenever needed]; Summary : [loved unk];real summary :[loved unk] \n",
      "Review : [drinking tea long time used purchase doctors office wasnt available elsewhere im glad buy unk drink tea throughout day like folks drink coffee wonderful taste]; Summary : [delicious tea];real summary :[delicious tea] \n",
      "Review : [bought allot different flavors happens one favorites getting soon]; Summary : [great flavor];real summary :[great flavor] \n",
      "Review : [great food love idea one food ages breeds unk real convenience well really good product 3 dogs eat less almost gas poop regular perfect consistency else mom ask]; Summary : [great food];real summary :[great food] \n",
      "Review : [stuff buy big box stores nothing healthy carbs sugars save money get something least taste]; Summary : [stuff];real summary :[stuff] \n",
      "Review : [flavors good however see unk unk oats brand mushy]; Summary : [mushy];real summary :[mushy] \n",
      "Review : [unk makes oatmeal every oatmeal connoisseur whether one likes raw pellet state cooks half hour unk unk instant done microwave three minutes good thats sure beauty instant variety available different]; Summary : [oatmeal oatmeal lovers];real summary :[oatmeal oatmeal lovers] \n",
      "Review : [little guys tasty unk br usually eat salads lunch terrible things breath eat 2 lunch small find sufficiently unk unk br theyre sugar free sugar actually help smelly bacteria grow]; Summary : [great lunch];real summary :[great lunch] \n",
      "Review : [love spicy ramen whatever reasons thing burns stomach badly burning sensation doesnt go away like 3 hours sure healthy buy walmart unk way cheaper amazon]; Summary : [burns];real summary :[burns] \n",
      "Review : [ordered wife reccomended daughter almost every morning likes flavors shes happy im unk unk instant irish oatmeal variety pack regular apples cinnamon maple brown sugar unk boxes pack unk]; Summary : [unk favorite breakfast];real summary :[unk favorite breakfast] \n"
     ]
    }
   ],
   "source": [
    "replies = []\n",
    "\n",
    "for ii, oi,ot in zip(input_.T, output,output_.T):\n",
    "    q = helpers.decode(sequence=ii, lookup=metadata['idx2w'], separator=' ')\n",
    "    decoded = helpers.decode(sequence=oi, lookup=metadata['idx2w'], separator=' ').split(' ')\n",
    "    rs = helpers.decode(sequence=ot, lookup=metadata['idx2w'], separator=' ').split(' ')\n",
    "    #if decoded.count('unk') == 0:\n",
    "     #   if decoded not in replies:\n",
    "    print('Review : [{0}]; Summary : [{1}];real summary :[{2}] '.format(q, ' '.join(decoded),' '.join(rs)))\n",
    "    #print \"Real Summary %s\",(helpers.decode(sequence=ot, lookup=metadata['idx2w'], separator=' ').split(' '))\n",
    "    replies.append(decoded)"
   ]
  },
  {
   "cell_type": "code",
   "execution_count": null,
   "metadata": {
    "collapsed": true
   },
   "outputs": [],
   "source": []
  }
 ],
 "metadata": {
  "anaconda-cloud": {},
  "kernelspec": {
   "display_name": "Python [default]",
   "language": "python",
   "name": "python2"
  },
  "language_info": {
   "codemirror_mode": {
    "name": "ipython",
    "version": 2
   },
   "file_extension": ".py",
   "mimetype": "text/x-python",
   "name": "python",
   "nbconvert_exporter": "python",
   "pygments_lexer": "ipython2",
   "version": "2.7.12"
  }
 },
 "nbformat": 4,
 "nbformat_minor": 0
}
